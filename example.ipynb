{
 "cells": [
  {
   "cell_type": "code",
   "execution_count": 1,
   "metadata": {},
   "outputs": [],
   "source": [
    "import json\n",
    "\n",
    "from doml_mc.model.doml_model import parse_doml_model"
   ]
  },
  {
   "cell_type": "code",
   "execution_count": 2,
   "metadata": {},
   "outputs": [],
   "source": [
    "from doml_mc.intermediate_model.metamodel import parse_metamodel, parse_inverse_associations\n",
    "import yaml\n",
    "with open(\"assets/doml_meta.yaml\") as mmf:\n",
    "    mmdoc = yaml.load(mmf, yaml.Loader)\n",
    "mm = parse_metamodel(mmdoc)\n",
    "inv_assoc = parse_inverse_associations(mmdoc)"
   ]
  },
  {
   "cell_type": "code",
   "execution_count": 3,
   "metadata": {},
   "outputs": [],
   "source": [
    "import prettyprinter as pp\n",
    "from prettyprinter.prettyprinter import IMPLICIT_MODULES\n",
    "pp.install_extras(include=['dataclasses'])"
   ]
  },
  {
   "cell_type": "code",
   "execution_count": 4,
   "metadata": {},
   "outputs": [
    {
     "name": "stdout",
     "output_type": "stream",
     "text": [
      "DOMLClass(\n",
      "    name='application_SoftwarePackage',\n",
      "    superclass='application_ApplicationComponent',\n",
      "    attributes={\n",
      "        'isPersistent': DOMLAttribute(\n",
      "            name='isPersistent',\n",
      "            type='Boolean',\n",
      "            multiplicity=('1', '1'),\n",
      "            default=False\n",
      "        )\n",
      "    },\n",
      "    associations={\n",
      "        'exposedInterfaces': DOMLAssociation(\n",
      "            name='exposedInterfaces',\n",
      "            class_='application_SoftwareInterface',\n",
      "            multiplicity=('0', '*')\n",
      "        ),\n",
      "        'consumedInterfaces': DOMLAssociation(\n",
      "            name='consumedInterfaces',\n",
      "            class_='application_SoftwareInterface',\n",
      "            multiplicity=('0', '*')\n",
      "        )\n",
      "    }\n",
      ")\n"
     ]
    }
   ],
   "source": [
    "IMPLICIT_MODULES.add('doml_mc.intermediate_model.metamodel')\n",
    "pp.pprint(mm[\"application_SoftwarePackage\"])"
   ]
  },
  {
   "cell_type": "markdown",
   "metadata": {},
   "source": [
    "### Load the DOML document here:"
   ]
  },
  {
   "cell_type": "code",
   "execution_count": 5,
   "metadata": {},
   "outputs": [],
   "source": [
    "doml_document_path = \"example_json_models/wordpress_json_no_iface.doml\"\n",
    "with open(doml_document_path) as jsonf:\n",
    "    doc = json.load(jsonf)\n",
    "\n",
    "doml_model = parse_doml_model(doc, mm)\n"
   ]
  },
  {
   "cell_type": "code",
   "execution_count": 6,
   "metadata": {},
   "outputs": [],
   "source": [
    "from doml_mc.intermediate_model.doml_model2im import doml_model_to_im\n",
    "from doml_mc.intermediate_model.doml_element import reciprocate_inverse_associations\n",
    "im = doml_model_to_im(doml_model, mm)\n",
    "reciprocate_inverse_associations(im, inv_assoc)"
   ]
  },
  {
   "cell_type": "code",
   "execution_count": 7,
   "metadata": {},
   "outputs": [
    {
     "name": "stdout",
     "output_type": "stream",
     "text": [
      "DOMLElement(\n",
      "    name='wordpress',\n",
      "    class_='application_SoftwarePackage',\n",
      "    attributes={'commons_DOMLElement::name': 'wordpress'},\n",
      "    associations={\n",
      "        'application_SoftwarePackage::consumedInterfaces': {\n",
      "            'postgres_db_interface'\n",
      "        },\n",
      "        'application_SoftwarePackage::exposedInterfaces': set()\n",
      "    }\n",
      ")\n"
     ]
    }
   ],
   "source": [
    "IMPLICIT_MODULES.add('doml_mc.intermediate_model.doml_element')\n",
    "pp.pprint(im[\"wordpress\"])"
   ]
  },
  {
   "cell_type": "code",
   "execution_count": 8,
   "metadata": {},
   "outputs": [],
   "source": [
    "# del im[\"postgres_db_interface\"].attributes[\"application_SoftwareInterface::endPoint\"]"
   ]
  },
  {
   "cell_type": "code",
   "execution_count": 9,
   "metadata": {},
   "outputs": [],
   "source": [
    "unbound_elems_n = 3\n",
    "unbound_elems = [f\"unbound{i}\" for i in range(unbound_elems_n)]"
   ]
  },
  {
   "cell_type": "code",
   "execution_count": 10,
   "metadata": {},
   "outputs": [],
   "source": [
    "from z3 import Solver\n",
    "\n",
    "from doml_mc.z3.metamodel_encoding import (\n",
    "    def_association_rel_and_assert_constraints,\n",
    "    def_attribute_rel_and_assert_constraints,\n",
    "    mk_association_sort_dict,\n",
    "    mk_attribute_sort_dict,\n",
    "    mk_class_sort_dict\n",
    ")\n",
    "from doml_mc.z3.im_encoding import (\n",
    "    assert_im_associations_q,\n",
    "    assert_im_attributes,\n",
    "    def_elem_class_f_and_assert_classes,\n",
    "    mk_elem_sort_dict,\n",
    "    mk_stringsym_sort_dict\n",
    ")\n",
    "from doml_mc.z3.utils import mk_adata_sort\n",
    "\n",
    "solver = Solver()\n",
    "\n",
    "class_sort, class_ = mk_class_sort_dict(mm)\n",
    "assoc_sort, assoc = mk_association_sort_dict(mm)\n",
    "attr_sort, attr = mk_attribute_sort_dict(mm)\n",
    "elem_sort, elem = mk_elem_sort_dict(im, unbound_elems)\n",
    "ss_sort, ss = mk_stringsym_sort_dict(im, mm)\n",
    "AData = mk_adata_sort(ss_sort)\n",
    "elem_class_f = def_elem_class_f_and_assert_classes(\n",
    "    im,\n",
    "    solver,\n",
    "    elem_sort,\n",
    "    elem,\n",
    "    class_sort,\n",
    "    class_\n",
    ")\n",
    "attr_rel = def_attribute_rel_and_assert_constraints(\n",
    "    mm,\n",
    "    solver,\n",
    "    attr_sort,\n",
    "    attr,\n",
    "    class_,\n",
    "    elem_class_f,\n",
    "    elem_sort,\n",
    "    AData,\n",
    "    ss\n",
    ")\n",
    "assert_im_attributes(\n",
    "    attr_rel,\n",
    "    solver,\n",
    "    im,\n",
    "    mm,\n",
    "    elem,\n",
    "    attr_sort,\n",
    "    attr,\n",
    "    AData,\n",
    "    ss\n",
    ")\n",
    "assoc_rel = def_association_rel_and_assert_constraints(\n",
    "    mm,\n",
    "    solver,\n",
    "    assoc_sort,\n",
    "    assoc,\n",
    "    class_,\n",
    "    elem_class_f,\n",
    "    elem_sort,\n",
    "    inv_assoc\n",
    ")\n",
    "assert_im_associations_q(\n",
    "    assoc_rel,\n",
    "    solver,\n",
    "    {k: v for k, v in im.items() if k not in unbound_elems},\n",
    "    elem,\n",
    "    assoc_sort,\n",
    "    assoc,\n",
    ")"
   ]
  },
  {
   "cell_type": "code",
   "execution_count": 11,
   "metadata": {},
   "outputs": [],
   "source": [
    "# solver.push()"
   ]
  },
  {
   "cell_type": "markdown",
   "metadata": {},
   "source": [
    "### Metamodel statistics"
   ]
  },
  {
   "cell_type": "code",
   "execution_count": 12,
   "metadata": {},
   "outputs": [
    {
     "name": "stdout",
     "output_type": "stream",
     "text": [
      "Number of classes: 35\n",
      "Number of tuples in the subclass relation: 92\n",
      "Number of attributes: 24\n",
      "Number of attribute assertions: 72\n",
      "Number of associations: 46\n",
      "Number of associations assertions: 142\n"
     ]
    }
   ],
   "source": [
    "from doml_mc.intermediate_model.metamodel import get_subclasses_dict\n",
    "\n",
    "print(\"Number of classes:\", len(mm))\n",
    "print(\n",
    "    \"Number of tuples in the subclass relation:\",\n",
    "    sum(len(s) for s in get_subclasses_dict(mm).values())\n",
    ")\n",
    "n_attrs = sum(len(c.attributes) for c in mm.values())\n",
    "print(\"Number of attributes:\", n_attrs)\n",
    "print(\"Number of attribute assertions:\", 3 * n_attrs)\n",
    "n_assocs = sum(len(c.associations) for c in mm.values())\n",
    "print(\"Number of associations:\", n_assocs)\n",
    "print(\"Number of associations assertions:\", 3 * n_assocs + len(inv_assoc))\n",
    "\n"
   ]
  },
  {
   "cell_type": "markdown",
   "metadata": {},
   "source": [
    "### DOML model statistics"
   ]
  },
  {
   "cell_type": "code",
   "execution_count": 13,
   "metadata": {},
   "outputs": [
    {
     "name": "stdout",
     "output_type": "stream",
     "text": [
      "Number of elements: 14\n",
      "Number of attributes (IM): 18\n",
      "Number of associations (IM): 18\n",
      "Number of string symbols: 17\n",
      "Number of IM attribute assertions: 14\n",
      "Number of IM association assertions: 196\n"
     ]
    }
   ],
   "source": [
    "n_elems = len(im)\n",
    "print(\"Number of elements:\", n_elems)\n",
    "n_attrs_im = sum(len(e.attributes) for e in im.values())\n",
    "print(\"Number of attributes (IM):\", n_attrs_im)\n",
    "n_assocs_im = sum(len(a) for e in im.values() for a in e.associations.values())\n",
    "print(\"Number of associations (IM):\", n_assocs_im)\n",
    "print(\"Number of string symbols:\", len(ss))\n",
    "print(\"Number of IM attribute assertions:\", n_elems)\n",
    "print(\"Number of IM association assertions:\", n_elems ** 2)"
   ]
  },
  {
   "cell_type": "code",
   "execution_count": 14,
   "metadata": {},
   "outputs": [
    {
     "data": {
      "text/html": [
       "<b>sat</b>"
      ],
      "text/plain": [
       "sat"
      ]
     },
     "execution_count": 14,
     "metadata": {},
     "output_type": "execute_result"
    }
   ],
   "source": [
    "solver.check()"
   ]
  },
  {
   "cell_type": "code",
   "execution_count": 15,
   "metadata": {},
   "outputs": [
    {
     "data": {
      "text/plain": [
       "(:added-eqs               24662\n",
       " :arith-make-feasible     5\n",
       " :arith-max-columns       7\n",
       " :binary-propagations     350\n",
       " :conflicts               89\n",
       " :datatype-accessor-ax    355\n",
       " :datatype-constructor-ax 9117\n",
       " :datatype-splits         1144\n",
       " :decisions               43772\n",
       " :del-clause              110\n",
       " :final-checks            6\n",
       " :max-generation          4\n",
       " :max-memory              24.34\n",
       " :memory                  24.30\n",
       " :mk-bool-var             2731\n",
       " :mk-clause               805\n",
       " :num-allocs              396711\n",
       " :num-checks              1\n",
       " :propagations            6672\n",
       " :quant-instantiations    553\n",
       " :restarts                2\n",
       " :rlimit-count            2609408\n",
       " :time                    0.49)"
      ]
     },
     "execution_count": 15,
     "metadata": {},
     "output_type": "execute_result"
    }
   ],
   "source": [
    "solver.statistics()"
   ]
  },
  {
   "cell_type": "code",
   "execution_count": 16,
   "metadata": {},
   "outputs": [],
   "source": [
    "from z3 import Consts, ForAll, Exists, Implies, And, Or"
   ]
  },
  {
   "cell_type": "code",
   "execution_count": 17,
   "metadata": {},
   "outputs": [],
   "source": [
    "# All software packages can see the interfaces they need through a common\n",
    "# network.\n",
    "spp, spc, i, n, ni, cn, c, d, dc = Consts(\n",
    "    \"spp spc i n ni cn c d dc\", elem_sort\n",
    ")\n",
    "assn = ForAll(\n",
    "    [spp, spc, i],\n",
    "    Implies(\n",
    "        And(\n",
    "            assoc_rel(spp, assoc[\"application_SoftwarePackage::exposedInterfaces\"], i),\n",
    "            assoc_rel(spc, assoc[\"application_SoftwarePackage::consumedInterfaces\"], i),\n",
    "        ),\n",
    "        Exists(\n",
    "            [n],\n",
    "            And(\n",
    "                Or(\n",
    "                    Exists(\n",
    "                        [cn, d, ni],\n",
    "                        And(\n",
    "                            assoc_rel(d, assoc[\"commons_Deployment::source\"], spp),\n",
    "                            assoc_rel(d, assoc[\"commons_Deployment::target\"], cn),\n",
    "                            assoc_rel(cn, assoc[\"infrastructure_ComputingNode::ifaces\"], ni),\n",
    "                            assoc_rel(\n",
    "                                ni, assoc[\"infrastructure_NetworkInterface::belongsTo\"], n\n",
    "                            ),\n",
    "                        ),\n",
    "                    ),\n",
    "                    Exists(\n",
    "                        [cn, d, c, dc, ni],\n",
    "                        And(\n",
    "                            assoc_rel(d, assoc[\"commons_Deployment::source\"], spp),\n",
    "                            assoc_rel(d, assoc[\"commons_Deployment::target\"], c),\n",
    "                            assoc_rel(dc, assoc[\"commons_Deployment::source\"], c),\n",
    "                            assoc_rel(dc, assoc[\"commons_Deployment::target\"], cn),\n",
    "                            assoc_rel(cn, assoc[\"infrastructure_ComputingNode::ifaces\"], ni),\n",
    "                            assoc_rel(\n",
    "                                ni, assoc[\"infrastructure_NetworkInterface::belongsTo\"], n\n",
    "                            ),\n",
    "                        ),\n",
    "                    ),\n",
    "                ),\n",
    "                Or(\n",
    "                    Exists(\n",
    "                        [cn, d, ni],\n",
    "                        And(\n",
    "                            assoc_rel(d, assoc[\"commons_Deployment::source\"], spc),\n",
    "                            assoc_rel(d, assoc[\"commons_Deployment::target\"], cn),\n",
    "                            assoc_rel(cn, assoc[\"infrastructure_ComputingNode::ifaces\"], ni),\n",
    "                            assoc_rel(\n",
    "                                ni, assoc[\"infrastructure_NetworkInterface::belongsTo\"], n\n",
    "                            ),\n",
    "                        ),\n",
    "                    ),\n",
    "                    Exists(\n",
    "                        [cn, d, c, dc, ni],\n",
    "                        And(\n",
    "                            assoc_rel(d, assoc[\"commons_Deployment::source\"], spc),\n",
    "                            assoc_rel(d, assoc[\"commons_Deployment::target\"], c),\n",
    "                            assoc_rel(dc, assoc[\"commons_Deployment::source\"], c),\n",
    "                            assoc_rel(dc, assoc[\"commons_Deployment::target\"], cn),\n",
    "                            assoc_rel(cn, assoc[\"infrastructure_ComputingNode::ifaces\"], ni),\n",
    "                            assoc_rel(\n",
    "                                ni, assoc[\"infrastructure_NetworkInterface::belongsTo\"], n\n",
    "                            ),\n",
    "                        ),\n",
    "                    ),\n",
    "                ),\n",
    "            ),\n",
    "        ),\n",
    "    ),\n",
    ")\n",
    "solver.assert_and_track(assn, \"software_package_iface_net\")\n",
    "\n",
    "e1, e2, ni = Consts(\"e1 e2 i\", elem_sort)\n",
    "assn = ForAll([e1, e2, ni],\n",
    "    Implies(\n",
    "        And(\n",
    "            Or(\n",
    "                assoc_rel(e1, assoc[\"infrastructure_ComputingNode::ifaces\"], ni),\n",
    "                assoc_rel(e1, assoc[\"infrastructure_Storage::ifaces\"], ni),\n",
    "            ),\n",
    "            Or(\n",
    "                assoc_rel(e2, assoc[\"infrastructure_ComputingNode::ifaces\"], ni),\n",
    "                assoc_rel(e2, assoc[\"infrastructure_Storage::ifaces\"], ni),\n",
    "            )\n",
    "        ),\n",
    "        e1 == e2\n",
    "    )\n",
    ")\n",
    "solver.assert_and_track(assn, \"iface_uniq\")"
   ]
  },
  {
   "cell_type": "code",
   "execution_count": 18,
   "metadata": {},
   "outputs": [
    {
     "data": {
      "text/html": [
       "<b>sat</b>"
      ],
      "text/plain": [
       "sat"
      ]
     },
     "execution_count": 18,
     "metadata": {},
     "output_type": "execute_result"
    }
   ],
   "source": [
    "solver.check()"
   ]
  },
  {
   "cell_type": "code",
   "execution_count": 19,
   "metadata": {},
   "outputs": [
    {
     "data": {
      "text/plain": [
       "29.15"
      ]
     },
     "execution_count": 19,
     "metadata": {},
     "output_type": "execute_result"
    }
   ],
   "source": [
    "solver.statistics().memory"
   ]
  },
  {
   "cell_type": "code",
   "execution_count": 20,
   "metadata": {},
   "outputs": [],
   "source": [
    "m = solver.model()"
   ]
  },
  {
   "cell_type": "code",
   "execution_count": 21,
   "metadata": {},
   "outputs": [],
   "source": [
    "from itertools import product"
   ]
  },
  {
   "cell_type": "code",
   "execution_count": 22,
   "metadata": {},
   "outputs": [
    {
     "name": "stdout",
     "output_type": "stream",
     "text": [
      "wpvm infrastructure_ComputingNode::ifaces unbound2\n",
      "net1 infrastructure_Network::connectedIfaces unbound2\n",
      "unbound0 commons_Deployment::source postgres\n",
      "unbound0 commons_Deployment::target wpvm\n",
      "unbound1 commons_Deployment::source wordpress\n",
      "unbound1 commons_Deployment::target wpvm\n",
      "unbound2 infrastructure_NetworkInterface::belongsTo net1\n"
     ]
    }
   ],
   "source": [
    "for (e1n, e1), a, (e2n, e2) in product(elem.items(), assoc.values(), elem.items()):\n",
    "    if (e1n in unbound_elems or e2n in unbound_elems) and m.eval(assoc_rel(e1, a, e2)):\n",
    "        print(e1, a, e2)"
   ]
  }
 ],
 "metadata": {
  "interpreter": {
   "hash": "a6678cf6b5907da3ee1c64f7f36cf1b3f0e5fe51f4038e28403f1c01345fc5bd"
  },
  "kernelspec": {
   "display_name": "Python 3.9.9 64-bit",
   "language": "python",
   "name": "python3"
  },
  "language_info": {
   "codemirror_mode": {
    "name": "ipython",
    "version": 3
   },
   "file_extension": ".py",
   "mimetype": "text/x-python",
   "name": "python",
   "nbconvert_exporter": "python",
   "pygments_lexer": "ipython3",
   "version": "3.9.9"
  },
  "orig_nbformat": 4
 },
 "nbformat": 4,
 "nbformat_minor": 2
}
