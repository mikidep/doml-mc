{
 "cells": [
  {
   "cell_type": "code",
   "execution_count": 1,
   "metadata": {},
   "outputs": [],
   "source": [
    "from benchmark import Benchmark\n",
    "\n",
    "def avg(it):\n",
    "    return sum(it)/len(it)"
   ]
  },
  {
   "cell_type": "code",
   "execution_count": 2,
   "metadata": {},
   "outputs": [],
   "source": [
    "def perform_avg_benchmarks(path, unbound_n):\n",
    "    benchmark = Benchmark(path, unbound_n)\n",
    "    n_runs = 20\n",
    "\n",
    "    print(\"FIRST SOLVING\")\n",
    "    rslts = [benchmark.perform_first_solving() for _ in range(n_runs)]\n",
    "    print(\"Avg time:\", avg([r.time for r in rslts]))\n",
    "    print(\"Avg q. inst:\", avg([r.q_inst for r in rslts]))\n",
    "    print(\"Avg conflicts:\", avg([r.conflicts for r in rslts]))\n",
    "    print(\"Avg memory:\", avg([r.memory for r in rslts]))\n",
    "    print()\n",
    "\n",
    "    print(\"INCR SOLVING\")\n",
    "    rslts = [benchmark.perform_incr_solving() for _ in range(n_runs)]\n",
    "    print(\"Avg time:\", avg([r.time for r in rslts]))\n",
    "    print(\"Avg q. inst:\", avg([r.q_inst for r in rslts]))\n",
    "    print(\"Avg conflicts:\", avg([r.conflicts for r in rslts]))\n",
    "    print(\"Avg memory:\", avg([r.memory for r in rslts]))\n",
    "    print()\n",
    "\n",
    "    print(\"CMLT SOLVING\")\n",
    "    rslts = [benchmark.perform_cmlt_solving() for _ in range(n_runs)]\n",
    "    print(\"Avg time:\", avg([r.time for r in rslts]))\n",
    "    print(\"Avg q. inst:\", avg([r.q_inst for r in rslts]))\n",
    "    print(\"Avg conflicts:\", avg([r.conflicts for r in rslts]))\n",
    "    print(\"Avg memory:\", avg([r.memory for r in rslts]))\n",
    "    print()"
   ]
  },
  {
   "cell_type": "markdown",
   "metadata": {},
   "source": [
    "### wordpress_json_example.doml"
   ]
  },
  {
   "cell_type": "code",
   "execution_count": 3,
   "metadata": {},
   "outputs": [
    {
     "name": "stdout",
     "output_type": "stream",
     "text": [
      "FIRST SOLVING\n",
      "Avg time: 0.8088999999999998\n",
      "Avg q. inst: 1189.6\n",
      "Avg conflicts: 189.7\n",
      "Avg memory: 26.2685\n",
      "\n",
      "INCR SOLVING\n",
      "Avg time: 1.8073000000000004\n",
      "Avg q. inst: 21588.35\n",
      "Avg conflicts: 1009.25\n",
      "Avg memory: 32.144000000000005\n",
      "\n",
      "CMLT SOLVING\n",
      "Avg time: 2.07245\n",
      "Avg q. inst: 25405.5\n",
      "Avg conflicts: 1033.25\n",
      "Avg memory: 32.1865\n",
      "\n"
     ]
    }
   ],
   "source": [
    "path = \"example_json_models/wordpress_json_example.doml\"\n",
    "perform_avg_benchmarks(path, 2)"
   ]
  },
  {
   "cell_type": "markdown",
   "metadata": {},
   "source": [
    "### wordpress_json_no_iface.doml"
   ]
  },
  {
   "cell_type": "code",
   "execution_count": 4,
   "metadata": {},
   "outputs": [
    {
     "name": "stdout",
     "output_type": "stream",
     "text": [
      "FIRST SOLVING\n",
      "Avg time: 0.39205\n",
      "Avg q. inst: 547.75\n",
      "Avg conflicts: 103.85\n",
      "Avg memory: 28.137999999999995\n",
      "\n",
      "INCR SOLVING\n",
      "Avg time: 1.5757499999999998\n",
      "Avg q. inst: 19509.2\n",
      "Avg conflicts: 1218.4\n",
      "Avg memory: 31.8445\n",
      "\n",
      "CMLT SOLVING\n",
      "Avg time: 1.4171500000000001\n",
      "Avg q. inst: 18640.85\n",
      "Avg conflicts: 1099.3\n",
      "Avg memory: 31.74\n",
      "\n"
     ]
    }
   ],
   "source": [
    "path = \"example_json_models/wordpress_json_no_iface.doml\"\n",
    "perform_avg_benchmarks(path, 3)"
   ]
  }
 ],
 "metadata": {
  "interpreter": {
   "hash": "fda61a6f77a39695b65b82f0f581fb5dc0d50e83e2e7fa3373820c66980450a0"
  },
  "kernelspec": {
   "display_name": "Python 3.9.9 ('.venv': poetry)",
   "language": "python",
   "name": "python3"
  },
  "language_info": {
   "codemirror_mode": {
    "name": "ipython",
    "version": 3
   },
   "file_extension": ".py",
   "mimetype": "text/x-python",
   "name": "python",
   "nbconvert_exporter": "python",
   "pygments_lexer": "ipython3",
   "version": "3.9.9"
  },
  "orig_nbformat": 4
 },
 "nbformat": 4,
 "nbformat_minor": 2
}
