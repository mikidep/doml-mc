{
 "cells": [
  {
   "cell_type": "code",
   "execution_count": 1,
   "metadata": {},
   "outputs": [],
   "source": [
    "from tqdm.notebook import tqdm\n",
    "\n",
    "from benchmark import Benchmark\n",
    "\n",
    "def avg(it):\n",
    "    return sum(it)/len(it)"
   ]
  },
  {
   "cell_type": "code",
   "execution_count": 2,
   "metadata": {},
   "outputs": [],
   "source": [
    "def perform_avg_benchmarks(path, unbound_n):\n",
    "    def print_bench(rslts):\n",
    "        print(\"Avg time:\", avg([r.time for r in rslts]))\n",
    "        print(\"Avg q. inst:\", avg([r.q_inst for r in rslts]))\n",
    "        print(\"Avg conflicts:\", avg([r.conflicts for r in rslts]))\n",
    "        print(\"Avg memory:\", avg([r.memory for r in rslts]))\n",
    "        print()\n",
    "\n",
    "    benchmark = Benchmark(path, unbound_n)\n",
    "    n_runs = 20\n",
    "\n",
    "    print(\"FIRST SOLVING\")\n",
    "    print_bench([benchmark.perform_first_solving() for _ in tqdm(range(n_runs))])\n",
    "\n",
    "    print(\"INCR SOLVING\")\n",
    "    print_bench([benchmark.perform_incr_solving() for _ in tqdm(range(n_runs))])\n",
    "\n",
    "    print(\"CMLT SOLVING\")\n",
    "    print_bench([benchmark.perform_cmlt_solving() for _ in tqdm(range(n_runs))])\n",
    "\n",
    "    print(\"CMLT NET SOLVING\")\n",
    "    print_bench([benchmark.perform_cmlt_solving_net() for _ in tqdm(range(n_runs))])\n",
    "\n",
    "    print(\"ASSN SOLVING NO SYNTH\")\n",
    "    print_bench([benchmark.perform_assn_solving_no_synth() for _ in tqdm(range(n_runs))])"
   ]
  },
  {
   "cell_type": "markdown",
   "metadata": {},
   "source": [
    "### wordpress_json_example.doml"
   ]
  },
  {
   "cell_type": "code",
   "execution_count": 3,
   "metadata": {},
   "outputs": [
    {
     "name": "stdout",
     "output_type": "stream",
     "text": [
      "FIRST SOLVING\n"
     ]
    },
    {
     "data": {
      "application/vnd.jupyter.widget-view+json": {
       "model_id": "2ecdb64857b74b94843d4504faecd230",
       "version_major": 2,
       "version_minor": 0
      },
      "text/plain": [
       "  0%|          | 0/20 [00:00<?, ?it/s]"
      ]
     },
     "metadata": {},
     "output_type": "display_data"
    },
    {
     "name": "stdout",
     "output_type": "stream",
     "text": [
      "Avg time: 0.6650999999999999\n",
      "Avg q. inst: 1017.4\n",
      "Avg conflicts: 189.9\n",
      "Avg memory: 25.758500000000005\n",
      "\n",
      "INCR SOLVING\n"
     ]
    },
    {
     "data": {
      "application/vnd.jupyter.widget-view+json": {
       "model_id": "0ce275ab9f4f44348e675ef8581ae5d7",
       "version_major": 2,
       "version_minor": 0
      },
      "text/plain": [
       "  0%|          | 0/20 [00:00<?, ?it/s]"
      ]
     },
     "metadata": {},
     "output_type": "display_data"
    },
    {
     "name": "stdout",
     "output_type": "stream",
     "text": [
      "Avg time: 1.81755\n",
      "Avg q. inst: 22035.15\n",
      "Avg conflicts: 1037.15\n",
      "Avg memory: 32.144\n",
      "\n",
      "CMLT SOLVING\n"
     ]
    },
    {
     "data": {
      "application/vnd.jupyter.widget-view+json": {
       "model_id": "dcdbb68d4d9440f587d278fb4c1fb65c",
       "version_major": 2,
       "version_minor": 0
      },
      "text/plain": [
       "  0%|          | 0/20 [00:00<?, ?it/s]"
      ]
     },
     "metadata": {},
     "output_type": "display_data"
    },
    {
     "name": "stdout",
     "output_type": "stream",
     "text": [
      "Avg time: 2.15735\n",
      "Avg q. inst: 24817.45\n",
      "Avg conflicts: 1007.8\n",
      "Avg memory: 32.332499999999996\n",
      "\n",
      "CMLT NET SOLVING\n"
     ]
    },
    {
     "data": {
      "application/vnd.jupyter.widget-view+json": {
       "model_id": "7d4aa38a700042869c5419a82d4cc687",
       "version_major": 2,
       "version_minor": 0
      },
      "text/plain": [
       "  0%|          | 0/20 [00:00<?, ?it/s]"
      ]
     },
     "metadata": {},
     "output_type": "display_data"
    },
    {
     "name": "stdout",
     "output_type": "stream",
     "text": [
      "Avg time: 4.45375\n",
      "Avg q. inst: 46420.65\n",
      "Avg conflicts: 1099.6\n",
      "Avg memory: 37.99099999999999\n",
      "\n",
      "ASSN SOLVING NO SYNTH\n"
     ]
    },
    {
     "data": {
      "application/vnd.jupyter.widget-view+json": {
       "model_id": "13ea688dcd334f78bb2fb5020b87202a",
       "version_major": 2,
       "version_minor": 0
      },
      "text/plain": [
       "  0%|          | 0/20 [00:00<?, ?it/s]"
      ]
     },
     "metadata": {},
     "output_type": "display_data"
    },
    {
     "name": "stdout",
     "output_type": "stream",
     "text": [
      "Avg time: 1.8256500000000002\n",
      "Avg q. inst: 3700.0\n",
      "Avg conflicts: 207.8\n",
      "Avg memory: 32.290000000000006\n",
      "\n"
     ]
    }
   ],
   "source": [
    "path = \"example_json_models/wordpress_json_example.doml\"\n",
    "perform_avg_benchmarks(path, 2)"
   ]
  },
  {
   "cell_type": "markdown",
   "metadata": {},
   "source": [
    "### wordpress_json_no_iface.doml"
   ]
  },
  {
   "cell_type": "code",
   "execution_count": 4,
   "metadata": {},
   "outputs": [
    {
     "name": "stdout",
     "output_type": "stream",
     "text": [
      "FIRST SOLVING\n"
     ]
    },
    {
     "data": {
      "application/vnd.jupyter.widget-view+json": {
       "model_id": "cba7cf84f33c4de090990d195def80be",
       "version_major": 2,
       "version_minor": 0
      },
      "text/plain": [
       "  0%|          | 0/20 [00:00<?, ?it/s]"
      ]
     },
     "metadata": {},
     "output_type": "display_data"
    },
    {
     "name": "stdout",
     "output_type": "stream",
     "text": [
      "Avg time: 0.36575\n",
      "Avg q. inst: 603.7\n",
      "Avg conflicts: 117.65\n",
      "Avg memory: 29.028000000000002\n",
      "\n",
      "INCR SOLVING\n"
     ]
    },
    {
     "data": {
      "application/vnd.jupyter.widget-view+json": {
       "model_id": "5349c16ae4384415ad4bc6e491b2f66d",
       "version_major": 2,
       "version_minor": 0
      },
      "text/plain": [
       "  0%|          | 0/20 [00:00<?, ?it/s]"
      ]
     },
     "metadata": {},
     "output_type": "display_data"
    },
    {
     "name": "stdout",
     "output_type": "stream",
     "text": [
      "Avg time: 1.8294500000000002\n",
      "Avg q. inst: 23239.15\n",
      "Avg conflicts: 1276.15\n",
      "Avg memory: 32.983\n",
      "\n",
      "CMLT SOLVING\n"
     ]
    },
    {
     "data": {
      "application/vnd.jupyter.widget-view+json": {
       "model_id": "d199dbcd5fbc45be95c9fe306dea6d6e",
       "version_major": 2,
       "version_minor": 0
      },
      "text/plain": [
       "  0%|          | 0/20 [00:00<?, ?it/s]"
      ]
     },
     "metadata": {},
     "output_type": "display_data"
    },
    {
     "name": "stdout",
     "output_type": "stream",
     "text": [
      "Avg time: 1.7249000000000003\n",
      "Avg q. inst: 21073.75\n",
      "Avg conflicts: 1211.95\n",
      "Avg memory: 32.664\n",
      "\n",
      "CMLT NET SOLVING\n"
     ]
    },
    {
     "data": {
      "application/vnd.jupyter.widget-view+json": {
       "model_id": "b622285277304a88a883888c1a8feaff",
       "version_major": 2,
       "version_minor": 0
      },
      "text/plain": [
       "  0%|          | 0/20 [00:00<?, ?it/s]"
      ]
     },
     "metadata": {},
     "output_type": "display_data"
    },
    {
     "name": "stdout",
     "output_type": "stream",
     "text": [
      "Avg time: 3.3947499999999997\n",
      "Avg q. inst: 31475.95\n",
      "Avg conflicts: 1250.2\n",
      "Avg memory: 37.1755\n",
      "\n",
      "ASSN SOLVING NO SYNTH\n"
     ]
    },
    {
     "data": {
      "application/vnd.jupyter.widget-view+json": {
       "model_id": "af48a81cadf64b658fc97fa55f029e0a",
       "version_major": 2,
       "version_minor": 0
      },
      "text/plain": [
       "  0%|          | 0/20 [00:00<?, ?it/s]"
      ]
     },
     "metadata": {},
     "output_type": "display_data"
    },
    {
     "name": "stdout",
     "output_type": "stream",
     "text": [
      "Avg time: 1.1434\n",
      "Avg q. inst: 1644.85\n",
      "Avg conflicts: 145.95\n",
      "Avg memory: 30.892000000000003\n",
      "\n"
     ]
    }
   ],
   "source": [
    "path = \"example_json_models/wordpress_json_no_iface.doml\"\n",
    "perform_avg_benchmarks(path, 3)"
   ]
  },
  {
   "cell_type": "markdown",
   "metadata": {},
   "source": [
    "### nginx-openstack_v2.doml"
   ]
  },
  {
   "cell_type": "code",
   "execution_count": 5,
   "metadata": {},
   "outputs": [
    {
     "name": "stdout",
     "output_type": "stream",
     "text": [
      "FIRST SOLVING\n"
     ]
    },
    {
     "data": {
      "application/vnd.jupyter.widget-view+json": {
       "model_id": "2d9cb778bdf84d7196858358a063e54c",
       "version_major": 2,
       "version_minor": 0
      },
      "text/plain": [
       "  0%|          | 0/20 [00:00<?, ?it/s]"
      ]
     },
     "metadata": {},
     "output_type": "display_data"
    },
    {
     "name": "stdout",
     "output_type": "stream",
     "text": [
      "Avg time: 0.2629500000000001\n",
      "Avg q. inst: 479.1\n",
      "Avg conflicts: 74.95\n",
      "Avg memory: 29.124499999999994\n",
      "\n",
      "INCR SOLVING\n"
     ]
    },
    {
     "data": {
      "application/vnd.jupyter.widget-view+json": {
       "model_id": "ad9e12f48ac24618a8ea3667f3a831ca",
       "version_major": 2,
       "version_minor": 0
      },
      "text/plain": [
       "  0%|          | 0/20 [00:00<?, ?it/s]"
      ]
     },
     "metadata": {},
     "output_type": "display_data"
    },
    {
     "name": "stdout",
     "output_type": "stream",
     "text": [
      "Avg time: 0.24240000000000003\n",
      "Avg q. inst: 990.6\n",
      "Avg conflicts: 119.95\n",
      "Avg memory: 29.878000000000004\n",
      "\n",
      "CMLT SOLVING\n"
     ]
    },
    {
     "data": {
      "application/vnd.jupyter.widget-view+json": {
       "model_id": "11edf13980e048a68112369eaf3d960c",
       "version_major": 2,
       "version_minor": 0
      },
      "text/plain": [
       "  0%|          | 0/20 [00:00<?, ?it/s]"
      ]
     },
     "metadata": {},
     "output_type": "display_data"
    },
    {
     "name": "stdout",
     "output_type": "stream",
     "text": [
      "Avg time: 0.26825\n",
      "Avg q. inst: 515.75\n",
      "Avg conflicts: 83.1\n",
      "Avg memory: 29.677500000000002\n",
      "\n",
      "CMLT NET SOLVING\n"
     ]
    },
    {
     "data": {
      "application/vnd.jupyter.widget-view+json": {
       "model_id": "e208479b2c264766839a976a31dbc5f1",
       "version_major": 2,
       "version_minor": 0
      },
      "text/plain": [
       "  0%|          | 0/20 [00:00<?, ?it/s]"
      ]
     },
     "metadata": {},
     "output_type": "display_data"
    },
    {
     "name": "stdout",
     "output_type": "stream",
     "text": [
      "Avg time: 0.8620000000000001\n",
      "Avg q. inst: 1384.15\n",
      "Avg conflicts: 98.1\n",
      "Avg memory: 30.911499999999997\n",
      "\n",
      "ASSN SOLVING NO SYNTH\n"
     ]
    },
    {
     "data": {
      "application/vnd.jupyter.widget-view+json": {
       "model_id": "10bb4c3fb31549c68d85eba071acad36",
       "version_major": 2,
       "version_minor": 0
      },
      "text/plain": [
       "  0%|          | 0/20 [00:00<?, ?it/s]"
      ]
     },
     "metadata": {},
     "output_type": "display_data"
    },
    {
     "name": "stdout",
     "output_type": "stream",
     "text": [
      "Avg time: 0.829\n",
      "Avg q. inst: 1328.6\n",
      "Avg conflicts: 92.5\n",
      "Avg memory: 30.844\n",
      "\n"
     ]
    }
   ],
   "source": [
    "path = \"example_json_models/nginx-openstack_v2.doml\"\n",
    "perform_avg_benchmarks(path, 0)"
   ]
  },
  {
   "cell_type": "markdown",
   "metadata": {},
   "source": [
    "### POSIDONIA.doml"
   ]
  },
  {
   "cell_type": "code",
   "execution_count": 6,
   "metadata": {},
   "outputs": [
    {
     "name": "stdout",
     "output_type": "stream",
     "text": [
      "FIRST SOLVING\n"
     ]
    },
    {
     "data": {
      "application/vnd.jupyter.widget-view+json": {
       "model_id": "aab0919ef8d64be28cebb846816e37d8",
       "version_major": 2,
       "version_minor": 0
      },
      "text/plain": [
       "  0%|          | 0/20 [00:00<?, ?it/s]"
      ]
     },
     "metadata": {},
     "output_type": "display_data"
    },
    {
     "name": "stdout",
     "output_type": "stream",
     "text": [
      "Avg time: 10.6297\n",
      "Avg q. inst: 8142.25\n",
      "Avg conflicts: 1617.05\n",
      "Avg memory: 53.698500000000024\n",
      "\n",
      "INCR SOLVING\n"
     ]
    },
    {
     "data": {
      "application/vnd.jupyter.widget-view+json": {
       "model_id": "b1bc2d48fde544b1b742bc1efcdb2ed0",
       "version_major": 2,
       "version_minor": 0
      },
      "text/plain": [
       "  0%|          | 0/20 [00:00<?, ?it/s]"
      ]
     },
     "metadata": {},
     "output_type": "display_data"
    },
    {
     "name": "stdout",
     "output_type": "stream",
     "text": [
      "Avg time: 47.30435000000001\n",
      "Avg q. inst: 170672.35\n",
      "Avg conflicts: 6698.6\n",
      "Avg memory: 89.27650000000001\n",
      "\n",
      "CMLT SOLVING\n"
     ]
    },
    {
     "data": {
      "application/vnd.jupyter.widget-view+json": {
       "model_id": "9e3bbcf835c840f4acb62f8d5d80850e",
       "version_major": 2,
       "version_minor": 0
      },
      "text/plain": [
       "  0%|          | 0/20 [00:00<?, ?it/s]"
      ]
     },
     "metadata": {},
     "output_type": "display_data"
    },
    {
     "name": "stdout",
     "output_type": "stream",
     "text": [
      "Avg time: 48.1306\n",
      "Avg q. inst: 139358.5\n",
      "Avg conflicts: 5827.45\n",
      "Avg memory: 87.179\n",
      "\n",
      "CMLT NET SOLVING\n"
     ]
    },
    {
     "data": {
      "application/vnd.jupyter.widget-view+json": {
       "model_id": "34f9540bef564442aa8cd1b9bd5cef26",
       "version_major": 2,
       "version_minor": 0
      },
      "text/plain": [
       "  0%|          | 0/20 [00:00<?, ?it/s]"
      ]
     },
     "metadata": {},
     "output_type": "display_data"
    },
    {
     "name": "stdout",
     "output_type": "stream",
     "text": [
      "Avg time: 111.11110000000001\n",
      "Avg q. inst: 559238.85\n",
      "Avg conflicts: 6197.85\n",
      "Avg memory: 127.67800000000003\n",
      "\n",
      "ASSN SOLVING NO SYNTH\n"
     ]
    },
    {
     "data": {
      "application/vnd.jupyter.widget-view+json": {
       "model_id": "49f9ac8926274b788d1c1af1a42d1fe0",
       "version_major": 2,
       "version_minor": 0
      },
      "text/plain": [
       "  0%|          | 0/20 [00:00<?, ?it/s]"
      ]
     },
     "metadata": {},
     "output_type": "display_data"
    },
    {
     "name": "stdout",
     "output_type": "stream",
     "text": [
      "Avg time: 46.76925\n",
      "Avg q. inst: 68985.85\n",
      "Avg conflicts: 1900.15\n",
      "Avg memory: 107.55149999999999\n",
      "\n"
     ]
    }
   ],
   "source": [
    "path = \"example_json_models/POSIDONIA.doml\"\n",
    "perform_avg_benchmarks(path, 3)"
   ]
  },
  {
   "cell_type": "code",
   "execution_count": 2,
   "metadata": {},
   "outputs": [],
   "source": [
    "Benchmark(\"example_json_models/POSIDONIA.doml\", 0).perform_assn_procedural()"
   ]
  }
 ],
 "metadata": {
  "interpreter": {
   "hash": "fda61a6f77a39695b65b82f0f581fb5dc0d50e83e2e7fa3373820c66980450a0"
  },
  "kernelspec": {
   "display_name": "Python 3.9.9 ('.venv': poetry)",
   "language": "python",
   "name": "python3"
  },
  "language_info": {
   "codemirror_mode": {
    "name": "ipython",
    "version": 3
   },
   "file_extension": ".py",
   "mimetype": "text/x-python",
   "name": "python",
   "nbconvert_exporter": "python",
   "pygments_lexer": "ipython3",
   "version": "3.9.9"
  },
  "orig_nbformat": 4
 },
 "nbformat": 4,
 "nbformat_minor": 2
}
