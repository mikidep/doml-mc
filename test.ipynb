{
 "cells": [
  {
   "cell_type": "code",
   "execution_count": 1,
   "metadata": {},
   "outputs": [],
   "source": [
    "import json\n",
    "\n",
    "from doml_mc.model.doml_model import parse_doml_model\n",
    "from doml_mc.z3.z3_doml_model import Z3DOMLModel"
   ]
  },
  {
   "cell_type": "code",
   "execution_count": 2,
   "metadata": {},
   "outputs": [],
   "source": [
    "with open(\"POSIDONIA.doml\") as jsonf:\n",
    "    doc = json.load(jsonf)\n",
    "\n",
    "doml_model = parse_doml_model(doc)\n",
    "z3_model = Z3DOMLModel(doml_model)\n"
   ]
  },
  {
   "cell_type": "code",
   "execution_count": 3,
   "metadata": {},
   "outputs": [],
   "source": [
    "from doml_mc.intermediate_model.doml_model2im import doml_model_to_im\n",
    "im = doml_model_to_im(doml_model)"
   ]
  },
  {
   "cell_type": "code",
   "execution_count": 1,
   "metadata": {},
   "outputs": [
    {
     "data": {
      "text/plain": [
       "{'commons_DOMLElement': {'application_ApplicationComponent',\n",
       "  'application_DBMS',\n",
       "  'application_SaaS',\n",
       "  'application_SaaSDBMS',\n",
       "  'application_SoftwareInterface',\n",
       "  'application_SoftwarePackage',\n",
       "  'commons_Configuration',\n",
       "  'commons_DOMLElement',\n",
       "  'infrastructure_AutoScalingGroup',\n",
       "  'infrastructure_ComputingNodeGenerator',\n",
       "  'infrastructure_ContainerImage',\n",
       "  'infrastructure_InfrastructureElement',\n",
       "  'infrastructure_Location',\n",
       "  'infrastructure_Network',\n",
       "  'infrastructure_NetworkInterface',\n",
       "  'infrastructure_Storage',\n",
       "  'infrastructure_Subnet',\n",
       "  'infrastructure_VMImage'},\n",
       " 'commons_Configuration': {'commons_Configuration'},\n",
       " 'commons_Deployment': {'commons_Deployment'},\n",
       " 'application_ApplicationComponent': {'application_ApplicationComponent',\n",
       "  'application_DBMS',\n",
       "  'application_SaaS',\n",
       "  'application_SaaSDBMS',\n",
       "  'application_SoftwareInterface',\n",
       "  'application_SoftwarePackage'},\n",
       " 'application_SoftwarePackage': {'application_DBMS',\n",
       "  'application_SoftwarePackage'},\n",
       " 'application_SaaS': {'application_SaaS', 'application_SaaSDBMS'},\n",
       " 'application_SoftwareInterface': {'application_SoftwareInterface'},\n",
       " 'application_DBMS': {'application_DBMS'},\n",
       " 'application_SaaSDBMS': {'application_SaaSDBMS'},\n",
       " 'infrastructure_InfrastructureElement': {'infrastructure_InfrastructureElement',\n",
       "  'infrastructure_NetworkInterface',\n",
       "  'infrastructure_Storage'},\n",
       " 'infrastructure_ComputingNode': {'infrastructure_ComputingNode',\n",
       "  'infrastructure_Container',\n",
       "  'infrastructure_PhysicalComputingNode',\n",
       "  'infrastructure_VirtualMachine'},\n",
       " 'infrastructure_PhysicalComputingNode': {'infrastructure_PhysicalComputingNode'},\n",
       " 'infrastructure_VirtualMachine': {'infrastructure_VirtualMachine'},\n",
       " 'infrastructure_Location': {'infrastructure_Location'},\n",
       " 'infrastructure_Container': {'infrastructure_Container'},\n",
       " 'infrastructure_ComputingNodeGenerator': {'infrastructure_ComputingNodeGenerator',\n",
       "  'infrastructure_ContainerImage',\n",
       "  'infrastructure_VMImage'},\n",
       " 'infrastructure_VMImage': {'infrastructure_VMImage'},\n",
       " 'infrastructure_ContainerImage': {'infrastructure_ContainerImage'},\n",
       " 'infrastructure_AutoScalingGroup': {'infrastructure_AutoScalingGroup'},\n",
       " 'infrastructure_Storage': {'infrastructure_Storage'},\n",
       " 'infrastructure_Network': {'infrastructure_Network', 'infrastructure_Subnet'},\n",
       " 'infrastructure_Subnet': {'infrastructure_Subnet'},\n",
       " 'infrastructure_NetworkInterface': {'infrastructure_NetworkInterface'},\n",
       " 'infrastructure_Firewall': {'infrastructure_Firewall'}}"
      ]
     },
     "execution_count": 1,
     "metadata": {},
     "output_type": "execute_result"
    }
   ],
   "source": [
    "from doml_mc.intermediate_model.metamodel import parse_metamodel\n",
    "import yaml\n",
    "with open(\"assets/doml_meta.yaml\") as mmf:\n",
    "    mmdoc = yaml.load(mmf, yaml.Loader)\n",
    "mm = parse_metamodel(mmdoc)\n",
    "from doml_mc.z3.metamodel_encoding import get_subclasses_dict\n",
    "get_subclasses_dict(mm)"
   ]
  }
 ],
 "metadata": {
  "interpreter": {
   "hash": "a6678cf6b5907da3ee1c64f7f36cf1b3f0e5fe51f4038e28403f1c01345fc5bd"
  },
  "kernelspec": {
   "display_name": "Python 3.9.9 64-bit",
   "language": "python",
   "name": "python3"
  },
  "language_info": {
   "codemirror_mode": {
    "name": "ipython",
    "version": 3
   },
   "file_extension": ".py",
   "mimetype": "text/x-python",
   "name": "python",
   "nbconvert_exporter": "python",
   "pygments_lexer": "ipython3",
   "version": "3.9.9"
  },
  "orig_nbformat": 4
 },
 "nbformat": 4,
 "nbformat_minor": 2
}
