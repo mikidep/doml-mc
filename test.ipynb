{
 "cells": [
  {
   "cell_type": "code",
   "execution_count": null,
   "metadata": {},
   "outputs": [],
   "source": [
    "import json\n",
    "\n",
    "from doml_mc.model.doml_model import parse_doml_model"
   ]
  },
  {
   "cell_type": "code",
   "execution_count": null,
   "metadata": {},
   "outputs": [],
   "source": [
    "from doml_mc.intermediate_model.metamodel import parse_metamodel, parse_inverse_associations\n",
    "import yaml\n",
    "with open(\"assets/doml_meta.yaml\") as mmf:\n",
    "    mmdoc = yaml.load(mmf, yaml.Loader)\n",
    "mm = parse_metamodel(mmdoc)\n",
    "inv_assoc = parse_inverse_associations(mmdoc)"
   ]
  },
  {
   "cell_type": "code",
   "execution_count": null,
   "metadata": {},
   "outputs": [],
   "source": [
    "with open(\"example_json_models/wordpress_json_no_iface.doml\") as jsonf:\n",
    "    doc = json.load(jsonf)\n",
    "\n",
    "doml_model = parse_doml_model(doc, mm)\n"
   ]
  },
  {
   "cell_type": "code",
   "execution_count": null,
   "metadata": {},
   "outputs": [],
   "source": [
    "from doml_mc.intermediate_model.doml_model2im import doml_model_to_im\n",
    "from doml_mc.intermediate_model.doml_element import reciprocate_inverse_associations\n",
    "im = doml_model_to_im(doml_model, mm)\n",
    "reciprocate_inverse_associations(im, inv_assoc)\n"
   ]
  },
  {
   "cell_type": "code",
   "execution_count": null,
   "metadata": {},
   "outputs": [],
   "source": [
    "from z3 import Solver\n",
    "\n",
    "from doml_mc.z3.metamodel_encoding import (\n",
    "    def_association_rel_and_assert_types,\n",
    "    def_attribute_rel_and_assert_types,\n",
    "    mk_association_sort_dict,\n",
    "    mk_attribute_sort_dict,\n",
    "    mk_class_sort_dict\n",
    ")\n",
    "from doml_mc.z3.im_encoding import (\n",
    "    assert_im_associations_q,\n",
    "    assert_im_attributes,\n",
    "    def_elem_class_f_and_assert_classes,\n",
    "    mk_elem_sort_dict,\n",
    "    mk_stringsym_sort_dict\n",
    ")\n",
    "from doml_mc.z3.utils import mk_adata_sort\n",
    "\n",
    "solver = Solver()\n",
    "\n",
    "class_sort, class_ = mk_class_sort_dict(mm)\n",
    "assoc_sort, assoc = mk_association_sort_dict(mm)\n",
    "attr_sort, attr = mk_attribute_sort_dict(mm)\n",
    "elem_sort, elem = mk_elem_sort_dict(im, [f\"unbound{i}\" for i in range(3)])\n",
    "ss_sort, ss = mk_stringsym_sort_dict(im, mm)\n",
    "AData = mk_adata_sort(ss_sort)\n",
    "elem_class_f = def_elem_class_f_and_assert_classes(\n",
    "    im,\n",
    "    solver,\n",
    "    elem_sort,\n",
    "    elem,\n",
    "    class_sort,\n",
    "    class_\n",
    ")\n",
    "assoc_rel = def_association_rel_and_assert_types(\n",
    "    mm,\n",
    "    solver,\n",
    "    assoc_sort,\n",
    "    assoc,\n",
    "    class_,\n",
    "    elem_class_f,\n",
    "    elem_sort,\n",
    "    inv_assoc\n",
    ")\n",
    "assert_im_associations_q(\n",
    "    assoc_rel,\n",
    "    solver,\n",
    "    {k: v for k, v in im.items() if not \"unbound\" in k},\n",
    "    elem,\n",
    "    assoc_sort,\n",
    "    assoc,\n",
    ")\n",
    "attr_rel = def_attribute_rel_and_assert_types(\n",
    "    mm,\n",
    "    solver,\n",
    "    attr_sort,\n",
    "    attr,\n",
    "    class_,\n",
    "    elem_class_f,\n",
    "    elem_sort,\n",
    "    AData,\n",
    "    ss\n",
    ")\n",
    "assert_im_attributes(\n",
    "    attr_rel,\n",
    "    solver,\n",
    "    im,\n",
    "    mm,\n",
    "    elem,\n",
    "    attr_sort,\n",
    "    attr,\n",
    "    AData,\n",
    "    ss\n",
    ")"
   ]
  },
  {
   "cell_type": "code",
   "execution_count": null,
   "metadata": {},
   "outputs": [],
   "source": [
    "solver.push()"
   ]
  },
  {
   "cell_type": "code",
   "execution_count": null,
   "metadata": {},
   "outputs": [],
   "source": [
    "solver.check()"
   ]
  },
  {
   "cell_type": "code",
   "execution_count": null,
   "metadata": {},
   "outputs": [],
   "source": [
    "from z3 import Consts, ForAll, Exists, Implies, And, Or\n",
    "\n",
    "# All software packages can see the interfaces they need through a common\n",
    "# network.\n",
    "spp, spc, i, n, ni, cn, c, d, dc = Consts(\n",
    "    \"spp spc i n ni cn c d dc\", elem_sort\n",
    ")\n",
    "attr = ForAll(\n",
    "    [spp, spc, i],\n",
    "    Implies(\n",
    "        And(\n",
    "            assoc_rel(spp, assoc[\"application_SoftwarePackage::exposedInterfaces\"], i),\n",
    "            assoc_rel(spc, assoc[\"application_SoftwarePackage::consumedInterfaces\"], i),\n",
    "        ),\n",
    "        Exists(\n",
    "            [n],\n",
    "            And(\n",
    "                Or(\n",
    "                    Exists(\n",
    "                        [cn, d, ni],\n",
    "                        And(\n",
    "                            assoc_rel(d, assoc[\"commons_Deployment::source\"], spp),\n",
    "                            assoc_rel(d, assoc[\"commons_Deployment::target\"], cn),\n",
    "                            assoc_rel(cn, assoc[\"infrastructure_ComputingNode::ifaces\"], ni),\n",
    "                            assoc_rel(\n",
    "                                ni, assoc[\"infrastructure_NetworkInterface::belongsTo\"], n\n",
    "                            ),\n",
    "                        ),\n",
    "                    ),\n",
    "                    Exists(\n",
    "                        [cn, d, c, dc, ni],\n",
    "                        And(\n",
    "                            assoc_rel(d, assoc[\"commons_Deployment::source\"], spp),\n",
    "                            assoc_rel(d, assoc[\"commons_Deployment::target\"], c),\n",
    "                            assoc_rel(dc, assoc[\"commons_Deployment::source\"], c),\n",
    "                            assoc_rel(dc, assoc[\"commons_Deployment::target\"], cn),\n",
    "                            assoc_rel(cn, assoc[\"infrastructure_ComputingNode::ifaces\"], ni),\n",
    "                            assoc_rel(\n",
    "                                ni, assoc[\"infrastructure_NetworkInterface::belongsTo\"], n\n",
    "                            ),\n",
    "                        ),\n",
    "                    ),\n",
    "                ),\n",
    "                Or(\n",
    "                    Exists(\n",
    "                        [cn, d, ni],\n",
    "                        And(\n",
    "                            assoc_rel(d, assoc[\"commons_Deployment::source\"], spc),\n",
    "                            assoc_rel(d, assoc[\"commons_Deployment::target\"], cn),\n",
    "                            assoc_rel(cn, assoc[\"infrastructure_ComputingNode::ifaces\"], ni),\n",
    "                            assoc_rel(\n",
    "                                ni, assoc[\"infrastructure_NetworkInterface::belongsTo\"], n\n",
    "                            ),\n",
    "                        ),\n",
    "                    ),\n",
    "                    Exists(\n",
    "                        [cn, d, c, dc, ni],\n",
    "                        And(\n",
    "                            assoc_rel(d, assoc[\"commons_Deployment::source\"], spc),\n",
    "                            assoc_rel(d, assoc[\"commons_Deployment::target\"], c),\n",
    "                            assoc_rel(dc, assoc[\"commons_Deployment::source\"], c),\n",
    "                            assoc_rel(dc, assoc[\"commons_Deployment::target\"], cn),\n",
    "                            assoc_rel(cn, assoc[\"infrastructure_ComputingNode::ifaces\"], ni),\n",
    "                            assoc_rel(\n",
    "                                ni, assoc[\"infrastructure_NetworkInterface::belongsTo\"], n\n",
    "                            ),\n",
    "                        ),\n",
    "                    ),\n",
    "                ),\n",
    "            ),\n",
    "        ),\n",
    "    ),\n",
    ")\n",
    "solver.assert_and_track(attr, \"software_package_iface_net\")"
   ]
  },
  {
   "cell_type": "markdown",
   "metadata": {},
   "source": [
    "**TODO:** assert that every network interface belongs to at most one vm"
   ]
  },
  {
   "cell_type": "code",
   "execution_count": null,
   "metadata": {},
   "outputs": [],
   "source": [
    "e1, e2, ni = Consts(\"e1 e2 i\", elem_sort)\n",
    "assn = ForAll([e1, e2, ni],\n",
    "    Implies(\n",
    "        And(\n",
    "            Or(\n",
    "                assoc_rel(e1, assoc[\"infrastructure_ComputingNode::ifaces\"], ni),\n",
    "                assoc_rel(e1, assoc[\"infrastructure_Storage::ifaces\"], ni),\n",
    "            ),\n",
    "            Or(\n",
    "                assoc_rel(e2, assoc[\"infrastructure_ComputingNode::ifaces\"], ni),\n",
    "                assoc_rel(e2, assoc[\"infrastructure_Storage::ifaces\"], ni),\n",
    "            )\n",
    "        ),\n",
    "        e1 == e2\n",
    "    )\n",
    ")\n",
    "solver.assert_and_track(assn, \"iface_uniq\")"
   ]
  },
  {
   "cell_type": "code",
   "execution_count": null,
   "metadata": {},
   "outputs": [],
   "source": [
    "solver.check()"
   ]
  },
  {
   "cell_type": "code",
   "execution_count": null,
   "metadata": {},
   "outputs": [],
   "source": [
    "from itertools import product\n",
    "m = solver.model()\n",
    "for e1, a, e2 in product(elem.values(), assoc.values(), elem.values()):\n",
    "    if m.eval(assoc_rel(e1, a, e2)):\n",
    "        print(e1, a, e2)"
   ]
  }
 ],
 "metadata": {
  "interpreter": {
   "hash": "a6678cf6b5907da3ee1c64f7f36cf1b3f0e5fe51f4038e28403f1c01345fc5bd"
  },
  "kernelspec": {
   "display_name": "Python 3.9.9 64-bit",
   "language": "python",
   "name": "python3"
  },
  "language_info": {
   "codemirror_mode": {
    "name": "ipython",
    "version": 3
   },
   "file_extension": ".py",
   "mimetype": "text/x-python",
   "name": "python",
   "nbconvert_exporter": "python",
   "pygments_lexer": "ipython3",
   "version": "3.9.9"
  },
  "orig_nbformat": 4
 },
 "nbformat": 4,
 "nbformat_minor": 2
}
